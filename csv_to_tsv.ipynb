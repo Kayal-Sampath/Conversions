{
  "nbformat": 4,
  "nbformat_minor": 0,
  "metadata": {
    "colab": {
      "name": "csv_to_tsv.ipynb",
      "provenance": []
    },
    "kernelspec": {
      "name": "python3",
      "display_name": "Python 3"
    },
    "language_info": {
      "name": "python"
    }
  },
  "cells": [
    {
      "cell_type": "code",
      "metadata": {
        "id": "GWGpEM_3QCod"
      },
      "source": [
        "import pandas as pd\n",
        "import csv\n",
        "\n",
        "dev = pd.read_csv('dev.csv')"
      ],
      "execution_count": null,
      "outputs": []
    },
    {
      "cell_type": "code",
      "metadata": {
        "colab": {
          "base_uri": "https://localhost:8080/"
        },
        "id": "t_Jxs8hvRICL",
        "outputId": "e99013bd-689b-4b97-b522-60d0c798f615"
      },
      "source": [
        "dev.head(5)\n",
        "dev['Class labels'].value_counts()"
      ],
      "execution_count": null,
      "outputs": [
        {
          "output_type": "execute_result",
          "data": {
            "text/plain": [
              "moderate          2306\n",
              "not depression    1830\n",
              "severe             360\n",
              "Name: Class labels, dtype: int64"
            ]
          },
          "metadata": {},
          "execution_count": 13
        }
      ]
    },
    {
      "cell_type": "code",
      "metadata": {
        "id": "QTPE-PURW25q"
      },
      "source": [
        "def convert_train(csv_file,tsv_file):\n",
        "  f = open(csv_file, 'r')\n",
        "  out_csv = open(tsv_file, 'w+')\n",
        "  in_reader= csv.reader(f, delimiter = ',')\n",
        "  with open(tsv_file, 'w') as out_tsv:\n",
        "    out_writer = csv.writer(out_tsv,delimiter = '\\t',lineterminator='\\n')\n",
        "    for row in in_reader:\n",
        "      out_writer.writerow([row[0],row[1],row[2]])"
      ],
      "execution_count": null,
      "outputs": []
    },
    {
      "cell_type": "code",
      "metadata": {
        "id": "g5dUVrN0XLfy"
      },
      "source": [
        "convert_train('dev.csv','dev.tsv')"
      ],
      "execution_count": null,
      "outputs": []
    },
    {
      "cell_type": "code",
      "metadata": {
        "colab": {
          "base_uri": "https://localhost:8080/",
          "height": 203
        },
        "id": "DpCK5os_Xt1_",
        "outputId": "8dab2427-963a-40d0-bbb7-7d94c486fad9"
      },
      "source": [
        "dev_t = pd.read_csv('dev.tsv',delimiter='\\t')\n",
        "dev_t.head()"
      ],
      "execution_count": null,
      "outputs": [
        {
          "output_type": "execute_result",
          "data": {
            "text/html": [
              "<div>\n",
              "<style scoped>\n",
              "    .dataframe tbody tr th:only-of-type {\n",
              "        vertical-align: middle;\n",
              "    }\n",
              "\n",
              "    .dataframe tbody tr th {\n",
              "        vertical-align: top;\n",
              "    }\n",
              "\n",
              "    .dataframe thead th {\n",
              "        text-align: right;\n",
              "    }\n",
              "</style>\n",
              "<table border=\"1\" class=\"dataframe\">\n",
              "  <thead>\n",
              "    <tr style=\"text-align: right;\">\n",
              "      <th></th>\n",
              "      <th>PID</th>\n",
              "      <th>Text data</th>\n",
              "      <th>Class labels</th>\n",
              "    </tr>\n",
              "  </thead>\n",
              "  <tbody>\n",
              "    <tr>\n",
              "      <th>0</th>\n",
              "      <td>dev_pid_1</td>\n",
              "      <td>I enjoyed today, and I still am! Tomorrows dep...</td>\n",
              "      <td>moderate</td>\n",
              "    </tr>\n",
              "    <tr>\n",
              "      <th>1</th>\n",
              "      <td>dev_pid_2</td>\n",
              "      <td>I sorta tried to kill myself : I had a total b...</td>\n",
              "      <td>moderate</td>\n",
              "    </tr>\n",
              "    <tr>\n",
              "      <th>2</th>\n",
              "      <td>dev_pid_3</td>\n",
              "      <td>Best suicide method? : I like it quick and eas...</td>\n",
              "      <td>moderate</td>\n",
              "    </tr>\n",
              "    <tr>\n",
              "      <th>3</th>\n",
              "      <td>dev_pid_4</td>\n",
              "      <td>a story : I remember the time I'd get on my 3D...</td>\n",
              "      <td>moderate</td>\n",
              "    </tr>\n",
              "    <tr>\n",
              "      <th>4</th>\n",
              "      <td>dev_pid_5</td>\n",
              "      <td>The world only cares about beautiful people : ...</td>\n",
              "      <td>moderate</td>\n",
              "    </tr>\n",
              "  </tbody>\n",
              "</table>\n",
              "</div>"
            ],
            "text/plain": [
              "         PID                                          Text data Class labels\n",
              "0  dev_pid_1  I enjoyed today, and I still am! Tomorrows dep...     moderate\n",
              "1  dev_pid_2  I sorta tried to kill myself : I had a total b...     moderate\n",
              "2  dev_pid_3  Best suicide method? : I like it quick and eas...     moderate\n",
              "3  dev_pid_4  a story : I remember the time I'd get on my 3D...     moderate\n",
              "4  dev_pid_5  The world only cares about beautiful people : ...     moderate"
            ]
          },
          "metadata": {},
          "execution_count": 22
        }
      ]
    },
    {
      "cell_type": "code",
      "metadata": {
        "colab": {
          "base_uri": "https://localhost:8080/"
        },
        "id": "FdP43DpHX8wS",
        "outputId": "dd075ea6-250c-49b0-8699-e0705be5291a"
      },
      "source": [
        "dev_t['Class labels'].value_counts()"
      ],
      "execution_count": null,
      "outputs": [
        {
          "output_type": "execute_result",
          "data": {
            "text/plain": [
              "moderate          2306\n",
              "not depression    1830\n",
              "severe             360\n",
              "Name: Class labels, dtype: int64"
            ]
          },
          "metadata": {},
          "execution_count": 23
        }
      ]
    }
  ]
}